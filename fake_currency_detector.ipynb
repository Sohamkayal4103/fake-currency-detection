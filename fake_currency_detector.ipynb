{
 "cells": [
  {
   "cell_type": "code",
   "execution_count": 1,
   "metadata": {
    "id": "KzENka7vHHN-"
   },
   "outputs": [],
   "source": [
    "# Make all the imports\n",
    "import tensorflow as tf\n",
    "import matplotlib.pyplot as plt\n",
    "import cv2\n",
    "import numpy as np\n",
    "import seaborn as sns\n",
    "from sklearn.metrics import f1_score\n",
    "from tensorflow.keras.preprocessing.image import ImageDataGenerator\n",
    "from tensorflow.keras.callbacks import ReduceLROnPlateau\n",
    "import pickle"
   ]
  },
  {
   "cell_type": "code",
   "execution_count": 2,
   "metadata": {
    "id": "wHSV3JE2HYsR"
   },
   "outputs": [],
   "source": [
    "# utility functions\n",
    "\n",
    "def process_jpg_image(img):\n",
    "  img = tf.convert_to_tensor(img[:,:,:3])\n",
    "  img = np.expand_dims(img, axis = 0)\n",
    "  img = tf.image.resize(img,[224,224])\n",
    "  img = (img/255.0)\n",
    "  return img\n",
    "\n",
    "def show_confusion_matrix(cm, labels):\n",
    "    '''\n",
    "    plots heatmap of confusion matrix'''\n",
    "    plt.figure(figsize=(15, 10))\n",
    "    sns.heatmap(cm, xticklabels=labels, yticklabels=labels, \n",
    "              annot=True, fmt='g')\n",
    "    plt.xlabel('Prediction')\n",
    "    plt.ylabel('Label')\n",
    "    plt.show()"
   ]
  },
  {
   "cell_type": "code",
   "execution_count": 3,
   "metadata": {
    "colab": {
     "base_uri": "https://localhost:8080/"
    },
    "id": "PVPDCOXUHb74",
    "outputId": "b9b9b4ef-ac2d-4021-f5e4-757401c5634c"
   },
   "outputs": [
    {
     "name": "stdout",
     "output_type": "stream",
     "text": [
      "Found 500 images belonging to 2 classes.\n",
      "Found 125 images belonging to 2 classes.\n"
     ]
    }
   ],
   "source": [
    "# Load all the images. training folder is split 20% as validation set and testing folder is loaded as test dataset.\n",
    "\n",
    "train_dir = r\"D:\\CDriveDesktopData\\Sem 6\\Mini-Proj-ML\\Mini Project\\dataset\"\n",
    "preprocess_input = tf.keras.applications.vgg16.preprocess_input\n",
    "TARGET_SIZE = 224\n",
    "BATCH_SIZE = 64\n",
    "\n",
    "\n",
    "train_datagen = ImageDataGenerator(validation_split=0.2,\n",
    "                                   rescale=1./255)\n",
    "\n",
    "\n",
    "train_generator = train_datagen.flow_from_directory(train_dir,\n",
    "                                                    batch_size=BATCH_SIZE,\n",
    "                                                    class_mode='categorical',\n",
    "                                                    subset=\"training\",\n",
    "                                                    shuffle = True,\n",
    "                                                    target_size=(TARGET_SIZE,TARGET_SIZE))\n",
    "\n",
    "validation_generator = train_datagen.flow_from_directory(train_dir,\n",
    "                                                    batch_size=BATCH_SIZE,\n",
    "                                                    class_mode='categorical',\n",
    "                                                    subset=\"validation\",\n",
    "                                                    shuffle = False,\n",
    "                                                    target_size=(TARGET_SIZE,TARGET_SIZE))\n"
   ]
  },
  {
   "cell_type": "code",
   "execution_count": 4,
   "metadata": {
    "colab": {
     "base_uri": "https://localhost:8080/"
    },
    "id": "G-LOPVtkHdvw",
    "outputId": "eb4f5bbd-518b-4865-9967-8ad4d3fc0689"
   },
   "outputs": [
    {
     "data": {
      "text/plain": [
       "{'fake': 0, 'real': 1}"
      ]
     },
     "execution_count": 4,
     "metadata": {},
     "output_type": "execute_result"
    }
   ],
   "source": [
    "# Print all the classes\n",
    "\n",
    "train_generator.class_indices"
   ]
  },
  {
   "cell_type": "code",
   "execution_count": 5,
   "metadata": {
    "colab": {
     "base_uri": "https://localhost:8080/"
    },
    "id": "LwVsjLdWHfWP",
    "outputId": "fc226ace-69be-44b7-fca1-747be122d629"
   },
   "outputs": [
    {
     "name": "stdout",
     "output_type": "stream",
     "text": [
      "(64, 224, 224, 3)\n",
      "(64, 2)\n"
     ]
    }
   ],
   "source": [
    "for image_batch, labels_batch in train_generator:\n",
    "  print(image_batch.shape)\n",
    "  print(labels_batch.shape)\n",
    "  break"
   ]
  },
  {
   "cell_type": "code",
   "execution_count": 6,
   "metadata": {
    "colab": {
     "base_uri": "https://localhost:8080/"
    },
    "id": "IXAJg1bhHhJP",
    "outputId": "f7823d4d-4fe9-497e-9569-cbca841faae0"
   },
   "outputs": [],
   "source": [
    "# Using a VGG model for training\n",
    "\n",
    "from tensorflow.keras.applications.vgg16 import VGG16\n",
    "\n",
    "\n",
    "base_model = VGG16(weights='imagenet', input_shape=(TARGET_SIZE, TARGET_SIZE, 3), include_top=False)\n",
    "base_model.trainable = False\n",
    "\n",
    "# Adding a model on top\n",
    "\n",
    "inputs = tf.keras.Input(shape=(TARGET_SIZE, TARGET_SIZE, 3))\n",
    "\n",
    "x = base_model.output\n",
    "x = tf.keras.layers.Dropout(0.25)(x)\n",
    "x = tf.keras.layers.GlobalAveragePooling2D()(x)\n",
    "x = tf.keras.layers.Dropout(0.25)(x)\n",
    "x = tf.keras.layers.Dense(16, activation='relu')(x)\n",
    "x = tf.keras.layers.Dropout(0.25)(x)\n",
    "output = tf.keras.layers.Dense(2, activation='softmax')(x)\n",
    "\n",
    "vgg = tf.keras.Model(inputs=base_model.input, outputs=output)\n"
   ]
  },
  {
   "cell_type": "code",
   "execution_count": 7,
   "metadata": {
    "colab": {
     "base_uri": "https://localhost:8080/"
    },
    "id": "HMynq5DfHjOo",
    "outputId": "081c0bcd-fb0c-4861-f36b-3af1c0f47f8a"
   },
   "outputs": [
    {
     "name": "stdout",
     "output_type": "stream",
     "text": [
      "Model: \"model\"\n",
      "_________________________________________________________________\n",
      " Layer (type)                Output Shape              Param #   \n",
      "=================================================================\n",
      " input_1 (InputLayer)        [(None, 224, 224, 3)]     0         \n",
      "                                                                 \n",
      " block1_conv1 (Conv2D)       (None, 224, 224, 64)      1792      \n",
      "                                                                 \n",
      " block1_conv2 (Conv2D)       (None, 224, 224, 64)      36928     \n",
      "                                                                 \n",
      " block1_pool (MaxPooling2D)  (None, 112, 112, 64)      0         \n",
      "                                                                 \n",
      " block2_conv1 (Conv2D)       (None, 112, 112, 128)     73856     \n",
      "                                                                 \n",
      " block2_conv2 (Conv2D)       (None, 112, 112, 128)     147584    \n",
      "                                                                 \n",
      " block2_pool (MaxPooling2D)  (None, 56, 56, 128)       0         \n",
      "                                                                 \n",
      " block3_conv1 (Conv2D)       (None, 56, 56, 256)       295168    \n",
      "                                                                 \n",
      " block3_conv2 (Conv2D)       (None, 56, 56, 256)       590080    \n",
      "                                                                 \n",
      " block3_conv3 (Conv2D)       (None, 56, 56, 256)       590080    \n",
      "                                                                 \n",
      " block3_pool (MaxPooling2D)  (None, 28, 28, 256)       0         \n",
      "                                                                 \n",
      " block4_conv1 (Conv2D)       (None, 28, 28, 512)       1180160   \n",
      "                                                                 \n",
      " block4_conv2 (Conv2D)       (None, 28, 28, 512)       2359808   \n",
      "                                                                 \n",
      " block4_conv3 (Conv2D)       (None, 28, 28, 512)       2359808   \n",
      "                                                                 \n",
      " block4_pool (MaxPooling2D)  (None, 14, 14, 512)       0         \n",
      "                                                                 \n",
      " block5_conv1 (Conv2D)       (None, 14, 14, 512)       2359808   \n",
      "                                                                 \n",
      " block5_conv2 (Conv2D)       (None, 14, 14, 512)       2359808   \n",
      "                                                                 \n",
      " block5_conv3 (Conv2D)       (None, 14, 14, 512)       2359808   \n",
      "                                                                 \n",
      " block5_pool (MaxPooling2D)  (None, 7, 7, 512)         0         \n",
      "                                                                 \n",
      " dropout (Dropout)           (None, 7, 7, 512)         0         \n",
      "                                                                 \n",
      " global_average_pooling2d (G  (None, 512)              0         \n",
      " lobalAveragePooling2D)                                          \n",
      "                                                                 \n",
      " dropout_1 (Dropout)         (None, 512)               0         \n",
      "                                                                 \n",
      " dense (Dense)               (None, 16)                8208      \n",
      "                                                                 \n",
      " dropout_2 (Dropout)         (None, 16)                0         \n",
      "                                                                 \n",
      " dense_1 (Dense)             (None, 2)                 34        \n",
      "                                                                 \n",
      "=================================================================\n",
      "Total params: 14,722,930\n",
      "Trainable params: 8,242\n",
      "Non-trainable params: 14,714,688\n",
      "_________________________________________________________________\n"
     ]
    }
   ],
   "source": [
    "vgg.summary()\n"
   ]
  },
  {
   "cell_type": "code",
   "execution_count": 8,
   "metadata": {
    "id": "a4LxMqhKHki0"
   },
   "outputs": [],
   "source": [
    "opt = tf.keras.optimizers.Adam()\n",
    "cce = tf.keras.losses.BinaryCrossentropy()\n",
    "vgg.compile(optimizer=opt, loss=cce, metrics= ['acc'])"
   ]
  },
  {
   "cell_type": "code",
   "execution_count": 9,
   "metadata": {
    "id": "OKBSSN4WHl8Z"
   },
   "outputs": [],
   "source": [
    "checkpoint_filepath = '/'\n",
    "model_checkpoint_callback = tf.keras.callbacks.ModelCheckpoint(\n",
    "    filepath=checkpoint_filepath,\n",
    "    save_weights_only=True,\n",
    "    monitor='val_accuracy',\n",
    "    mode='max',\n",
    "    save_best_only=True)\n",
    "\n",
    "reduce_lr = ReduceLROnPlateau(monitor='val_loss', factor=0.2,\n",
    "                              patience=5, min_lr=0.001)"
   ]
  },
  {
   "cell_type": "code",
   "execution_count": 10,
   "metadata": {
    "colab": {
     "base_uri": "https://localhost:8080/"
    },
    "id": "QYbufv99HnrG",
    "outputId": "23d43e73-f7b1-400a-ed37-637de433d30a"
   },
   "outputs": [
    {
     "name": "stdout",
     "output_type": "stream",
     "text": [
      "Epoch 1/15\n",
      "7/7 [==============================] - 134s 17s/step - loss: 0.7261 - acc: 0.5500 - val_loss: 0.6343 - val_acc: 0.6080 - lr: 0.0010\n",
      "Epoch 2/15\n",
      "7/7 [==============================] - 130s 17s/step - loss: 0.6463 - acc: 0.6320 - val_loss: 0.5958 - val_acc: 0.6880 - lr: 0.0010\n",
      "Epoch 3/15\n",
      "7/7 [==============================] - 131s 17s/step - loss: 0.6189 - acc: 0.6860 - val_loss: 0.5498 - val_acc: 0.8640 - lr: 0.0010\n",
      "Epoch 4/15\n",
      "7/7 [==============================] - 129s 17s/step - loss: 0.6143 - acc: 0.7100 - val_loss: 0.5115 - val_acc: 0.9200 - lr: 0.0010\n",
      "Epoch 5/15\n",
      "7/7 [==============================] - 117s 15s/step - loss: 0.5500 - acc: 0.7900 - val_loss: 0.4756 - val_acc: 0.9040 - lr: 0.0010\n",
      "Epoch 6/15\n",
      "7/7 [==============================] - 112s 14s/step - loss: 0.5224 - acc: 0.8180 - val_loss: 0.4420 - val_acc: 0.8960 - lr: 0.0010\n",
      "Epoch 7/15\n",
      "7/7 [==============================] - 113s 15s/step - loss: 0.4979 - acc: 0.8220 - val_loss: 0.4149 - val_acc: 0.8960 - lr: 0.0010\n",
      "Epoch 8/15\n",
      "7/7 [==============================] - 122s 16s/step - loss: 0.4760 - acc: 0.8380 - val_loss: 0.3801 - val_acc: 0.9200 - lr: 0.0010\n",
      "Epoch 9/15\n",
      "7/7 [==============================] - 117s 15s/step - loss: 0.4423 - acc: 0.8460 - val_loss: 0.3497 - val_acc: 0.9520 - lr: 0.0010\n",
      "Epoch 10/15\n",
      "7/7 [==============================] - 127s 17s/step - loss: 0.4404 - acc: 0.8440 - val_loss: 0.3335 - val_acc: 0.9120 - lr: 0.0010\n",
      "Epoch 11/15\n",
      "7/7 [==============================] - 128s 16s/step - loss: 0.4047 - acc: 0.8680 - val_loss: 0.3141 - val_acc: 0.9200 - lr: 0.0010\n",
      "Epoch 12/15\n",
      "7/7 [==============================] - 120s 15s/step - loss: 0.3897 - acc: 0.8620 - val_loss: 0.2913 - val_acc: 0.9280 - lr: 0.0010\n",
      "Epoch 13/15\n",
      "7/7 [==============================] - 119s 15s/step - loss: 0.3684 - acc: 0.8760 - val_loss: 0.2670 - val_acc: 0.9600 - lr: 0.0010\n",
      "Epoch 14/15\n",
      "7/7 [==============================] - 121s 16s/step - loss: 0.3596 - acc: 0.8800 - val_loss: 0.2627 - val_acc: 0.9280 - lr: 0.0010\n",
      "Epoch 15/15\n",
      "7/7 [==============================] - 125s 16s/step - loss: 0.3283 - acc: 0.8900 - val_loss: 0.2539 - val_acc: 0.9360 - lr: 0.0010\n"
     ]
    }
   ],
   "source": [
    "EPOCHS = 15\n",
    "NUM_STEPS = train_generator.samples/BATCH_SIZE\n",
    "VAL_NUM_STEPS = validation_generator.samples/BATCH_SIZE\n",
    "model = vgg.fit(train_generator, epochs = EPOCHS, steps_per_epoch = NUM_STEPS, validation_steps = VAL_NUM_STEPS, validation_data = validation_generator, callbacks=[reduce_lr])"
   ]
  },
  {
   "cell_type": "code",
   "execution_count": 11,
   "metadata": {
    "colab": {
     "base_uri": "https://localhost:8080/",
     "height": 499
    },
    "id": "67nWyDALHr1z",
    "outputId": "e1b9770a-55f4-492e-9dfa-93c8b14b8704"
   },
   "outputs": [
    {
     "data": {
      "image/png": "[encoded data removed]",
      "text/plain": [
       "<Figure size 1152x576 with 2 Axes>"
      ]
     },
     "metadata": {
      "needs_background": "light"
     },
     "output_type": "display_data"
    }
   ],
   "source": [
    "# Plot the training and validation accuracy and loss graphs\n",
    "\n",
    "acc = model.history['acc']\n",
    "val_acc = model.history['val_acc']\n",
    "\n",
    "loss = model.history['loss']\n",
    "val_loss = model.history['val_loss']\n",
    "\n",
    "epochs_range = range(EPOCHS)\n",
    "\n",
    "plt.figure(figsize=(16, 8))\n",
    "plt.subplot(1, 2, 1)\n",
    "plt.plot(epochs_range, acc, label='Training Accuracy')\n",
    "plt.plot(epochs_range, val_acc, label='Validation Accuracy')\n",
    "plt.legend(loc='lower right')\n",
    "plt.title('Training and Validation Accuracy')\n",
    "\n",
    "plt.subplot(1, 2, 2)\n",
    "plt.plot(epochs_range, loss, label='Training Loss')\n",
    "plt.plot(epochs_range, val_loss, label='Validation Loss')\n",
    "plt.legend(loc='upper right')\n",
    "plt.title('Training and Validation Loss')\n",
    "plt.show()"
   ]
  },
  {
   "cell_type": "markdown",
   "metadata": {
    "id": "wu26GalyHvLk"
   },
   "source": [
    "## Testing the model with a sample image from the test dataset"
   ]
  },
  {
   "cell_type": "code",
   "execution_count": 12,
   "metadata": {
    "colab": {
     "base_uri": "https://localhost:8080/"
    },
    "id": "YpFZId3agkTi",
    "outputId": "9a4df1d5-f3b6-40f0-c524-7d4212d73052"
   },
   "outputs": [
    {
     "name": "stdout",
     "output_type": "stream",
     "text": [
      "[('fake', 0), ('real', 1)]\n"
     ]
    }
   ],
   "source": [
    "class_names = list(train_generator.class_indices.items())\n",
    "print(class_names)"
   ]
  },
  {
   "cell_type": "code",
   "execution_count": 13,
   "metadata": {
    "id": "EpopPYq6HxWC"
   },
   "outputs": [],
   "source": [
    "test_image_path = \"dataset/fake/10 rupees Images_ Stock Photos.jpg\""
   ]
  },
  {
   "cell_type": "code",
   "execution_count": 14,
   "metadata": {
    "colab": {
     "base_uri": "https://localhost:8080/"
    },
    "id": "yPsNjcGyHypD",
    "outputId": "2788b70e-6ea9-48d8-c9a8-93c05eea9115"
   },
   "outputs": [
    {
     "name": "stdout",
     "output_type": "stream",
     "text": [
      "1/1 [==============================] - 1s 521ms/step\n",
      "dimensions of image used for prediction is:  (1, 224, 224, 3)\n",
      "[[0.676485 0.323515]]\n"
     ]
    }
   ],
   "source": [
    "test_image_read_1 = cv2.imread(test_image_path)\n",
    "\n",
    "test_image_1 = process_jpg_image(test_image_read_1)\n",
    "prediction_1 = vgg.predict(test_image_1)\n",
    "print(f'dimensions of image used for prediction is: ',test_image_1.shape)\n",
    "print(prediction_1)"
   ]
  },
  {
   "cell_type": "markdown",
   "metadata": {
    "id": "VjEQT1HLH0Yp"
   },
   "source": [
    "## Predicting all the images in the test dataset and plotting a confusion matrix"
   ]
  },
  {
   "cell_type": "code",
   "execution_count": 15,
   "metadata": {
    "id": "aJXMx3ehH1pl"
   },
   "outputs": [
    {
     "name": "stdout",
     "output_type": "stream",
     "text": [
      "2/2 [==============================] - 25s 11s/step\n"
     ]
    }
   ],
   "source": [
    "# Get the labels of all the images\n",
    "true_labels = validation_generator.labels\n",
    "# Making the predictions of all the validation images\n",
    "all_predictions = vgg.predict(validation_generator)"
   ]
  },
  {
   "cell_type": "code",
   "execution_count": 16,
   "metadata": {
    "id": "j2azpH1_H2vK"
   },
   "outputs": [],
   "source": [
    "preds = []\n",
    "for items in all_predictions:\n",
    "    preds.append(np.argmax(items))\n",
    "    "
   ]
  },
  {
   "cell_type": "code",
   "execution_count": 17,
   "metadata": {
    "colab": {
     "base_uri": "https://localhost:8080/",
     "height": 610
    },
    "id": "hFVB3fauH3v6",
    "outputId": "e0573282-8696-4453-9209-2b93384a6f24"
   },
   "outputs": [
    {
     "data": {
      "image/png": "[encoded data removed]",
      "text/plain": [
       "<Figure size 1080x720 with 2 Axes>"
      ]
     },
     "metadata": {
      "needs_background": "light"
     },
     "output_type": "display_data"
    }
   ],
   "source": [
    "# plot the confusion matrix\n",
    "\n",
    "confusion_mat = tf.math.confusion_matrix(\n",
    "    true_labels, preds, dtype=tf.dtypes.int32)\n",
    "\n",
    "show_confusion_matrix(confusion_mat, class_names)"
   ]
  },
  {
   "cell_type": "code",
   "execution_count": 18,
   "metadata": {
    "colab": {
     "base_uri": "https://localhost:8080/"
    },
    "id": "7DKKyS2CH5Ny",
    "outputId": "ce554f3c-7172-4ed1-f0b3-c5874e4be895"
   },
   "outputs": [
    {
     "name": "stdout",
     "output_type": "stream",
     "text": [
      "F1 score of the model is 0.9352199258081612\n"
     ]
    }
   ],
   "source": [
    "f1 = f1_score(true_labels, preds, average='weighted')\n",
    "print(f\"F1 score of the model is\", f1)"
   ]
  },
  {
   "cell_type": "code",
   "execution_count": 19,
   "metadata": {
    "id": "S5L4fuZX8BlE"
   },
   "outputs": [
    {
     "name": "stdout",
     "output_type": "stream",
     "text": [
      "1/1 [==============================] - 0s 277ms/step\n",
      "dimensions of image used for prediction is:  (1, 224, 224, 3)\n",
      "[[0.8805903  0.11940972]]\n"
     ]
    }
   ],
   "source": [
    "test_image_path = \"dataset/fake/FIFTY RUPEE NOTES.jpg\"\n",
    "test_image_read_1 = cv2.imread(test_image_path)\n",
    "test_image_1 = process_jpg_image(test_image_read_1)\n",
    "prediction_1 = vgg.predict(test_image_1)\n",
    "print(f'dimensions of image used for prediction is: ',test_image_1.shape)\n",
    "print(prediction_1)"
   ]
  },
  {
   "cell_type": "code",
   "execution_count": 20,
   "metadata": {},
   "outputs": [],
   "source": [
    "import pickle \n",
    "with open('fake_currency_detector.pkl', 'wb') as f:\n",
    "    pickle.dump(get_ipython().getoutput('jupyter nbconvert --to script notebook.ipynb'), f)\n"
   ]
  },
  {
   "cell_type": "code",
   "execution_count": 21,
   "metadata": {},
   "outputs": [
    {
     "name": "stdout",
     "output_type": "stream",
     "text": [
      "1/1 [==============================] - 0s 247ms/step\n",
      "dimensions of image used for prediction is:  (1, 224, 224, 3)\n",
      "[[0.2044347  0.79556537]]\n"
     ]
    }
   ],
   "source": [
    "test_image_path = \"dataset/real/2000_original_IMG_20190421_140542119.jpg_4b42b398-215d-416d-a1ce-9ad9fb75c8d1.jpg\"\n",
    "test_image_read_1 = cv2.imread(test_image_path)\n",
    "test_image_1 = process_jpg_image(test_image_read_1)\n",
    "prediction_1 = vgg.predict(test_image_1)\n",
    "print(f'dimensions of image used for prediction is: ',test_image_1.shape)\n",
    "print(prediction_1)"
   ]
  },
  {
   "cell_type": "code",
   "execution_count": 22,
   "metadata": {},
   "outputs": [],
   "source": [
    "vgg.save(\"vgg_model_2.h5\")"
   ]
  },
  {
   "cell_type": "code",
   "execution_count": 23,
   "metadata": {},
   "outputs": [
    {
     "name": "stdout",
     "output_type": "stream",
     "text": [
      "1/1 [==============================] - 0s 201ms/step\n",
      "dimensions of image used for prediction is:  (1, 224, 224, 3)\n",
      "[[0.04397054 0.9560295 ]]\n"
     ]
    }
   ],
   "source": [
    "test_image_path = \"dataset/real/200_original_IMG_20190422_063730704.jpg_e8b9f697-aba9-45b4-8b88-48f9974661b9.jpg\"\n",
    "test_image_read_1 = cv2.imread(test_image_path)\n",
    "test_image_1 = process_jpg_image(test_image_read_1)\n",
    "prediction_1 = vgg.predict(test_image_1)\n",
    "print(f'dimensions of image used for prediction is: ',test_image_1.shape)\n",
    "print(prediction_1)"
   ]
  },
  {
   "cell_type": "code",
   "execution_count": null,
   "metadata": {},
   "outputs": [],
   "source": []
  }
 ],
 "metadata": {
  "accelerator": "GPU",
  "colab": {
   "name": "fake_currency_detector.ipynb",
   "provenance": []
  },
  "kernelspec": {
   "display_name": "Python 3 (ipykernel)",
   "language": "python",
   "name": "python3"
  },
  "language_info": {
   "codemirror_mode": {
    "name": "ipython",
    "version": 3
   },
   "file_extension": ".py",
   "mimetype": "text/x-python",
   "name": "python",
   "nbconvert_exporter": "python",
   "pygments_lexer": "ipython3",
   "version": "3.9.6"
  },
  "vscode": {
   "interpreter": {
    "hash": "64330627e5d00bd465ce1dcb3d4121cfc158170760683ca669745b4a01b97e2d"
   }
  }
 },
 "nbformat": 4,
 "nbformat_minor": 1
}
